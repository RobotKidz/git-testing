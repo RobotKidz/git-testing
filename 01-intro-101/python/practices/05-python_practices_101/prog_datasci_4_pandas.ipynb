{
 "cells": [
  {
   "cell_type": "markdown",
   "metadata": {},
   "source": [
    "# Programación para *Data Science*"
   ]
  },
  {
   "cell_type": "markdown",
   "metadata": {},
   "source": [
    "Unidad 4: Librerías científicas en Python - pandas\n",
    "------------------------------------------------------\n",
    "\n",
    "## Instrucciones de uso\n",
    "A continuación se presentarán explicaciones y ejemplos de uso de la librería pandas. Recordad que podéis ir ejecutando los ejemplos para obtener sus resultados.\n",
    "\n",
    "## Introducción\n",
    "\n",
    "Pandas es una librería de Python que nos ofrece una interfaz de alto nivel para manipular y analizar datos. Podéis encontrar la documentación completa de la librería en el siguiente [enlace](http://pandas.pydata.org/pandas-docs/stable/).\n"
   ]
  },
  {
   "cell_type": "markdown",
   "metadata": {},
   "source": [
    "### Primeros pasos\n",
    "\n",
    "Para poder utilizar la librería, en primer lugar es necesario importarla:"
   ]
  },
  {
   "cell_type": "code",
   "execution_count": 1,
   "metadata": {},
   "outputs": [],
   "source": [
    "# En la siguiente línea, importamos pandas y le damos un nombre más corto \n",
    "# para que nos sea más cómodo hacer las llamadas.\n",
    "import pandas as pd\n",
    "# Importamos también NumPy, ya que la usaremos en alguno de los ejemplos.\n",
    "import numpy as np"
   ]
  },
  {
   "cell_type": "markdown",
   "metadata": {},
   "source": [
    "### Estructuras de datos básicas\n",
    "\n",
    "Pandas provee de tres estructuras de datos: la serie, el _dataframe_ y el panel. Veamos las características de cada una de ellas.\n",
    "\n",
    "Una **serie** es un vector **unidimensional** con **etiquetas** en los ejes y datos **homogéneos**. \n",
    "\n",
    "Repasemos qué implican cada una de estas características con unos ejemplos.\n",
    "\n",
    "La serie nos permite representar un conjunto de datos unidimensionales, por ejemplo, una lista de enteros, decimales o de cadenas de caracteres: \n"
   ]
  },
  {
   "cell_type": "code",
   "execution_count": 2,
   "metadata": {},
   "outputs": [
    {
     "name": "stdout",
     "output_type": "stream",
     "text": [
      "0    1\n",
      "1    1\n",
      "2    2\n",
      "3    3\n",
      "4    5\n",
      "dtype: int64\n"
     ]
    }
   ],
   "source": [
    "print pd.Series([1, 1, 2, 3, 5])"
   ]
  },
  {
   "cell_type": "code",
   "execution_count": 3,
   "metadata": {},
   "outputs": [
    {
     "name": "stdout",
     "output_type": "stream",
     "text": [
      "0    1.50\n",
      "1    3.50\n",
      "2    4.75\n",
      "dtype: float64\n"
     ]
    }
   ],
   "source": [
    "print pd.Series([1.5, 3.5, 4.75])"
   ]
  },
  {
   "cell_type": "markdown",
   "metadata": {},
   "source": [
    "Los datos de una serie tienen que ser homogéneos, es decir, tienen que ser del mismo tipo. En los ejemplos anteriores, la primera serie está formada por enteros (int64) mientras que la segunda contiene números en punto flotante (float).\n",
    "\n",
    "De todos modos, si intentamos crear una serie con datos de diferentes tipos, podremos hacerlo, ya que pandas creará una serie con el tipo más general:\n"
   ]
  },
  {
   "cell_type": "code",
   "execution_count": 4,
   "metadata": {},
   "outputs": [
    {
     "name": "stdout",
     "output_type": "stream",
     "text": [
      "0    1.0\n",
      "1    2.0\n",
      "2    3.5\n",
      "dtype: float64\n"
     ]
    }
   ],
   "source": [
    "# Mezclamos enteros y floats, la serie es de tipo float.\n",
    "print pd.Series([1, 2, 3.5])"
   ]
  },
  {
   "cell_type": "code",
   "execution_count": 5,
   "metadata": {},
   "outputs": [
    {
     "name": "stdout",
     "output_type": "stream",
     "text": [
      "0       1\n",
      "1     4.3\n",
      "2    data\n",
      "dtype: object\n"
     ]
    }
   ],
   "source": [
    "# Mezclamos enteros, floats y strings, la serie es de tipo object.\n",
    "print pd.Series([1, 4.3, \"data\"])"
   ]
  },
  {
   "cell_type": "markdown",
   "metadata": {},
   "source": [
    "Por último, la serie puede tener etiquetas, de manera que podemos acceder a los elementos de una serie tanto a partir de su índice como de su etiqueta."
   ]
  },
  {
   "cell_type": "code",
   "execution_count": 6,
   "metadata": {},
   "outputs": [
    {
     "name": "stdout",
     "output_type": "stream",
     "text": [
      "alice    2\n",
      "bob      3\n",
      "eve      5\n",
      "dtype: int64\n",
      "2\n",
      "2\n"
     ]
    }
   ],
   "source": [
    "# Creamos una serie etiquetada a partir de un diccionario.\n",
    "s = pd.Series({\"alice\" : 2, \"bob\": 3, \"eve\": 5})\n",
    "print s\n",
    "\n",
    "# Accedemos a los elementos de la serie a partir de su etiqueta.\n",
    "print s[\"alice\"]\n",
    "\n",
    "# Accedemos a los elementos de la serie a partir de su índice.\n",
    "print s[0]"
   ]
  },
  {
   "cell_type": "code",
   "execution_count": 7,
   "metadata": {},
   "outputs": [
    {
     "name": "stdout",
     "output_type": "stream",
     "text": [
      "alice    2\n",
      "bob      3\n",
      "eve      5\n",
      "dtype: int64\n"
     ]
    }
   ],
   "source": [
    "# Creamos una serie etiquetada a partir de dos vectores, uno con los datos y otro con las etiquetas.\n",
    "print pd.Series([2, 3, 5], index = [\"alice\", \"bob\", \"eve\"])"
   ]
  },
  {
   "cell_type": "markdown",
   "metadata": {},
   "source": [
    "La segunda estructura de datos de pandas que presentaremos es el dataframe.\n",
    "\n",
    "Un **_dataframe_** es una tabla **bidimensional** con **etiquetas** en los ejes y datos potencialmente **heterogéneos**. El _dataframe_ es la estructura principal de trabajo con la librería pandas.\n",
    "\n",
    "Veamos las características principales de un dataframe con algunos ejemplos.\n",
    "\n",
    "A diferencia de una serie, un _dataframe_ es bidimensional:"
   ]
  },
  {
   "cell_type": "code",
   "execution_count": 8,
   "metadata": {},
   "outputs": [
    {
     "name": "stdout",
     "output_type": "stream",
     "text": [
      "   0  1  2\n",
      "0  1  2  3\n",
      "1  4  5  6\n"
     ]
    }
   ],
   "source": [
    "print pd.DataFrame([[1, 2, 3], [4, 5, 6]])"
   ]
  },
  {
   "cell_type": "markdown",
   "metadata": {},
   "source": [
    "Al igual que la serie, el _dataframe_ puede tener etiquetas en los ejes y podemos utilizar diferentes sintaxis para incluir las etiquetas en el _dataframe_."
   ]
  },
  {
   "cell_type": "code",
   "execution_count": 9,
   "metadata": {},
   "outputs": [
    {
     "name": "stdout",
     "output_type": "stream",
     "text": [
      "       alice   bob   eve\n",
      "year    1953  1955  2011\n",
      "month     12    11    10\n",
      "day        3    24    10\n"
     ]
    }
   ],
   "source": [
    "# Utilizamos un diccionario para definir cada columna y una lista para indicar las etiquetas de las filas.\n",
    "d = {\"alice\" : [1953, 12, 3], \"bob\" : [1955, 11, 24], \"eve\" : [2011, 10, 10]}\n",
    "print pd.DataFrame(d, index=[\"year\", \"month\", \"day\"])"
   ]
  },
  {
   "cell_type": "code",
   "execution_count": 10,
   "metadata": {},
   "outputs": [
    {
     "name": "stdout",
     "output_type": "stream",
     "text": [
      "       year  month  day\n",
      "alice  1953     12    3\n",
      "bob    1955     11   24\n",
      "eve    2011     10   10\n"
     ]
    }
   ],
   "source": [
    "# Utilizamos una lista de listas para introducir los datos y dos listas adicionales \n",
    "# para indicar las etiquetas de filas y las columnas.\n",
    "a = [[1953, 12, 3], [1955, 11, 24], [2011, 10, 10]]\n",
    "print pd.DataFrame(a, columns=[\"year\", \"month\", \"day\"], index = [\"alice\", \"bob\", \"eve\"])"
   ]
  },
  {
   "cell_type": "markdown",
   "metadata": {},
   "source": [
    "Cada una de las columnas de un _dataframe_ puede tener tipos de datos distintos, dando lugar a _dataframes_ heterogéneos:"
   ]
  },
  {
   "cell_type": "code",
   "execution_count": 11,
   "metadata": {},
   "outputs": [
    {
     "name": "stdout",
     "output_type": "stream",
     "text": [
      "       year             major  average grade\n",
      "alice  1953  computer science            3.5\n",
      "bob    1955        archeology            3.8\n",
      "eve    2011           biology            2.8\n"
     ]
    }
   ],
   "source": [
    "a = [[1953, \"computer science\", 3.5], [1955, \"archeology\", 3.8], [2011, \"biology\", 2.8]]\n",
    "print pd.DataFrame(a, columns=[\"year\", \"major\", \"average grade\"], index = [\"alice\", \"bob\", \"eve\"])"
   ]
  },
  {
   "cell_type": "markdown",
   "metadata": {},
   "source": [
    "El panel es la tercera estructura de datos que pandas nos provee.\n",
    "\n",
    "Un **panel** es una estructura de datos **tridimensional** que puede contener **etiquetas** en los ejes y puede ser **heterogénea**.\n",
    "\n",
    "El panel es una estructura de datos menos usada en pandas, por lo que no dispone de algunas de las funciones que nos ofrecen la serie y el _dataframe_. \n",
    "\n",
    "Veamos un ejemplo sencillo de creación de un panel para representar una imagen."
   ]
  },
  {
   "cell_type": "code",
   "execution_count": 12,
   "metadata": {},
   "outputs": [
    {
     "name": "stdout",
     "output_type": "stream",
     "text": [
      "<class 'pandas.core.panel.Panel'>\n",
      "Dimensions: 2 (items) x 5 (major_axis) x 3 (minor_axis)\n",
      "Items axis: y0 to y1\n",
      "Major_axis axis: x0 to x4\n",
      "Minor_axis axis: R to B\n"
     ]
    }
   ],
   "source": [
    "img = [[[0, 0, 0], [0, 15, 0], [0, 0, 15], [15, 0, 0], [180, 180, 180]],\n",
    "       [[200, 200, 200], [125, 1, 125], [100, 100, 2], [1, 152, 125], [15, 25, 20]]]\n",
    "\n",
    "print pd.Panel(img, \n",
    "               minor_axis=[\"R\", \"G\", \"B\"],                    # un píxel son 3 valores\n",
    "               major_axis=[\"x\"+str(i) for i in range(5)],     # la imagen tiene 5 píxeles en horizontal, etiquetados como \n",
    "                                                              # x0, x1, ..., x5\n",
    "               items= [\"y\"+str(i) for i in range(2)])         # la imagen tiene 2 píxeles en vertical, etiquetados como\n",
    "                                                              # y0, y1\n",
    "\n"
   ]
  },
  {
   "cell_type": "markdown",
   "metadata": {},
   "source": [
    "Visualicemos gráficamente la imagen para entender mejor la representación escogida. La imagen tiene 2 filas y 5 columnas y para cada píxel utilizamos 3 valores numéricos para representar su color."
   ]
  },
  {
   "cell_type": "code",
   "execution_count": 13,
   "metadata": {},
   "outputs": [
    {
     "name": "stdout",
     "output_type": "stream",
     "text": [
      "Populating the interactive namespace from numpy and matplotlib\n"
     ]
    },
    {
     "data": {
      "text/plain": [
       "<matplotlib.image.AxesImage at 0x7fe4c23fb290>"
      ]
     },
     "execution_count": 13,
     "metadata": {},
     "output_type": "execute_result"
    },
    {
     "data": {
      "image/png": "[encoded data removed]",
      "text/plain": [
       "<matplotlib.figure.Figure at 0x7fe4c4bcf910>"
      ]
     },
     "metadata": {},
     "output_type": "display_data"
    }
   ],
   "source": [
    "%pylab inline\n",
    "from pylab import imshow\n",
    "imshow(array(img, dtype=uint16), interpolation='nearest')"
   ]
  },
  {
   "cell_type": "markdown",
   "metadata": {},
   "source": [
    "## Operaciones básicas sobre un _dataframe_\n",
    "\n",
    "El _dataframe_ es la estructura más usada en pandas. Veamos algunas de las operaciones que podemos realizar con él.\n",
    "\n",
    "### Lectura de datos de un fichero\n",
    "\n",
    "Pandas nos permite cargar los datos de un fichero CSV directamente a un _dataframe_ a través de la función `read_csv`. Esta función es muy versátil y dispone de multitud de parámetros para configurar con todo detalle cómo realizar la importación. En muchas ocasiones, la configuración por defecto ya nos ofrecerá los resultados deseados.\n",
    "\n",
    "Cargamos ahora los datos del fichero `marvel-wikia-data.csv`, que contiene datos sobre personajes de cómic de Marvel. El conjunto de datos fue creado por la web [FiveThirtyEight](https://fivethirtyeight.com/), que realiza artículos basados en datos sobre deportes y noticias, y que pone a disposición pública los [conjuntos de datos](https://github.com/fivethirtyeight/data) que recoge para sus artículos."
   ]
  },
  {
   "cell_type": "code",
   "execution_count": 14,
   "metadata": {},
   "outputs": [
    {
     "name": "stdout",
     "output_type": "stream",
     "text": [
      "<class 'pandas.core.frame.DataFrame'>\n"
     ]
    }
   ],
   "source": [
    "# Cargamos los datos del fichero \"marvel-wikia-data.csv\" en un dataframe.\n",
    "data = pd.read_csv(\"data/marvel-wikia-data.csv\")\n",
    "print type(data)"
   ]
  },
  {
   "cell_type": "markdown",
   "metadata": {},
   "source": [
    "### Exploración del _dataframe_\n",
    "\n",
    "Veamos algunas funciones que nos permiten explorar el _dataframe_ que acabamos de cargar."
   ]
  },
  {
   "cell_type": "code",
   "execution_count": 15,
   "metadata": {},
   "outputs": [
    {
     "data": {
      "text/html": [
       "<div style=\"max-width:1500px;overflow:auto;\">\n",
       "<table border=\"1\" class=\"dataframe\">\n",
       "  <thead>\n",
       "    <tr style=\"text-align: right;\">\n",
       "      <th></th>\n",
       "      <th>page_id</th>\n",
       "      <th>name</th>\n",
       "      <th>urlslug</th>\n",
       "      <th>ID</th>\n",
       "      <th>ALIGN</th>\n",
       "      <th>EYE</th>\n",
       "      <th>HAIR</th>\n",
       "      <th>SEX</th>\n",
       "      <th>GSM</th>\n",
       "      <th>ALIVE</th>\n",
       "      <th>APPEARANCES</th>\n",
       "      <th>FIRST APPEARANCE</th>\n",
       "      <th>Year</th>\n",
       "    </tr>\n",
       "  </thead>\n",
       "  <tbody>\n",
       "    <tr>\n",
       "      <th>0</th>\n",
       "      <td>1678</td>\n",
       "      <td>Spider-Man (Peter Parker)</td>\n",
       "      <td>\\/Spider-Man_(Peter_Parker)</td>\n",
       "      <td>Secret Identity</td>\n",
       "      <td>Good Characters</td>\n",
       "      <td>Hazel Eyes</td>\n",
       "      <td>Brown Hair</td>\n",
       "      <td>Male Characters</td>\n",
       "      <td>NaN</td>\n",
       "      <td>Living Characters</td>\n",
       "      <td>4043</td>\n",
       "      <td>Aug-62</td>\n",
       "      <td>1962</td>\n",
       "    </tr>\n",
       "    <tr>\n",
       "      <th>1</th>\n",
       "      <td>7139</td>\n",
       "      <td>Captain America (Steven Rogers)</td>\n",
       "      <td>\\/Captain_America_(Steven_Rogers)</td>\n",
       "      <td>Public Identity</td>\n",
       "      <td>Good Characters</td>\n",
       "      <td>Blue Eyes</td>\n",
       "      <td>White Hair</td>\n",
       "      <td>Male Characters</td>\n",
       "      <td>NaN</td>\n",
       "      <td>Living Characters</td>\n",
       "      <td>3360</td>\n",
       "      <td>Mar-41</td>\n",
       "      <td>1941</td>\n",
       "    </tr>\n",
       "    <tr>\n",
       "      <th>2</th>\n",
       "      <td>64786</td>\n",
       "      <td>Wolverine (James \\\"Logan\\\" Howlett)</td>\n",
       "      <td>\\/Wolverine_(James_%22Logan%22_Howlett)</td>\n",
       "      <td>Public Identity</td>\n",
       "      <td>Neutral Characters</td>\n",
       "      <td>Blue Eyes</td>\n",
       "      <td>Black Hair</td>\n",
       "      <td>Male Characters</td>\n",
       "      <td>NaN</td>\n",
       "      <td>Living Characters</td>\n",
       "      <td>3061</td>\n",
       "      <td>Oct-74</td>\n",
       "      <td>1974</td>\n",
       "    </tr>\n",
       "  </tbody>\n",
       "</table>\n",
       "</div>"
      ],
      "text/plain": [
       "   page_id                                 name  \\\n",
       "0     1678            Spider-Man (Peter Parker)   \n",
       "1     7139      Captain America (Steven Rogers)   \n",
       "2    64786  Wolverine (James \\\"Logan\\\" Howlett)   \n",
       "\n",
       "                                   urlslug               ID  \\\n",
       "0              \\/Spider-Man_(Peter_Parker)  Secret Identity   \n",
       "1        \\/Captain_America_(Steven_Rogers)  Public Identity   \n",
       "2  \\/Wolverine_(James_%22Logan%22_Howlett)  Public Identity   \n",
       "\n",
       "                ALIGN         EYE        HAIR              SEX  GSM  \\\n",
       "0     Good Characters  Hazel Eyes  Brown Hair  Male Characters  NaN   \n",
       "1     Good Characters   Blue Eyes  White Hair  Male Characters  NaN   \n",
       "2  Neutral Characters   Blue Eyes  Black Hair  Male Characters  NaN   \n",
       "\n",
       "               ALIVE  APPEARANCES FIRST APPEARANCE  Year  \n",
       "0  Living Characters         4043           Aug-62  1962  \n",
       "1  Living Characters         3360           Mar-41  1941  \n",
       "2  Living Characters         3061           Oct-74  1974  "
      ]
     },
     "execution_count": 15,
     "metadata": {},
     "output_type": "execute_result"
    }
   ],
   "source": [
    "# Mostrar las 3 primeras filas\n",
    "data.head(n=3)"
   ]
  },
  {
   "cell_type": "code",
   "execution_count": 16,
   "metadata": {},
   "outputs": [
    {
     "data": {
      "text/plain": [
       "Int64Index([    0,     1,     2,     3,     4,     5,     6,     7,     8,\n",
       "                9,\n",
       "            ...\n",
       "            16366, 16367, 16368, 16369, 16370, 16371, 16372, 16373, 16374,\n",
       "            16375],\n",
       "           dtype='int64', length=16376)"
      ]
     },
     "execution_count": 16,
     "metadata": {},
     "output_type": "execute_result"
    }
   ],
   "source": [
    "# Mostrar las etiquetas\n",
    "data.index"
   ]
  },
  {
   "cell_type": "code",
   "execution_count": 17,
   "metadata": {},
   "outputs": [
    {
     "data": {
      "text/html": [
       "<div style=\"max-width:1500px;overflow:auto;\">\n",
       "<table border=\"1\" class=\"dataframe\">\n",
       "  <thead>\n",
       "    <tr style=\"text-align: right;\">\n",
       "      <th></th>\n",
       "      <th>page_id</th>\n",
       "      <th>APPEARANCES</th>\n",
       "      <th>Year</th>\n",
       "    </tr>\n",
       "  </thead>\n",
       "  <tbody>\n",
       "    <tr>\n",
       "      <th>count</th>\n",
       "      <td>16376.000000</td>\n",
       "      <td>15280.000000</td>\n",
       "      <td>15561.000000</td>\n",
       "    </tr>\n",
       "    <tr>\n",
       "      <th>mean</th>\n",
       "      <td>300232.082377</td>\n",
       "      <td>17.033377</td>\n",
       "      <td>1984.951803</td>\n",
       "    </tr>\n",
       "    <tr>\n",
       "      <th>std</th>\n",
       "      <td>253460.403399</td>\n",
       "      <td>96.372959</td>\n",
       "      <td>19.663571</td>\n",
       "    </tr>\n",
       "    <tr>\n",
       "      <th>min</th>\n",
       "      <td>1025.000000</td>\n",
       "      <td>1.000000</td>\n",
       "      <td>1939.000000</td>\n",
       "    </tr>\n",
       "    <tr>\n",
       "      <th>25%</th>\n",
       "      <td>28309.500000</td>\n",
       "      <td>1.000000</td>\n",
       "      <td>1974.000000</td>\n",
       "    </tr>\n",
       "    <tr>\n",
       "      <th>50%</th>\n",
       "      <td>282578.000000</td>\n",
       "      <td>3.000000</td>\n",
       "      <td>1990.000000</td>\n",
       "    </tr>\n",
       "    <tr>\n",
       "      <th>75%</th>\n",
       "      <td>509077.000000</td>\n",
       "      <td>8.000000</td>\n",
       "      <td>2000.000000</td>\n",
       "    </tr>\n",
       "    <tr>\n",
       "      <th>max</th>\n",
       "      <td>755278.000000</td>\n",
       "      <td>4043.000000</td>\n",
       "      <td>2013.000000</td>\n",
       "    </tr>\n",
       "  </tbody>\n",
       "</table>\n",
       "</div>"
      ],
      "text/plain": [
       "             page_id   APPEARANCES          Year\n",
       "count   16376.000000  15280.000000  15561.000000\n",
       "mean   300232.082377     17.033377   1984.951803\n",
       "std    253460.403399     96.372959     19.663571\n",
       "min      1025.000000      1.000000   1939.000000\n",
       "25%     28309.500000      1.000000   1974.000000\n",
       "50%    282578.000000      3.000000   1990.000000\n",
       "75%    509077.000000      8.000000   2000.000000\n",
       "max    755278.000000   4043.000000   2013.000000"
      ]
     },
     "execution_count": 17,
     "metadata": {},
     "output_type": "execute_result"
    }
   ],
   "source": [
    "# Mostrar estadísticos básicos de las columnas numéricas del dataframe\n",
    "data.describe()"
   ]
  },
  {
   "cell_type": "markdown",
   "metadata": {},
   "source": [
    "### Indexación y selección de datos\n"
   ]
  },
  {
   "cell_type": "markdown",
   "metadata": {},
   "source": [
    "Podemos utilizar las expresiones habituales de Python (y NumPy) para seleccionar datos de _dataframes_ o bien usar los operadores propios de pandas. Estos últimos están optimizados, por lo que su uso es recomendado para trabajar con conjuntos de datos grandes o en situaciones donde la eficiencia sea crítica."
   ]
  },
  {
   "cell_type": "code",
   "execution_count": 18,
   "metadata": {},
   "outputs": [
    {
     "data": {
      "text/plain": [
       "0              Spider-Man (Peter Parker)\n",
       "1        Captain America (Steven Rogers)\n",
       "2    Wolverine (James \\\"Logan\\\" Howlett)\n",
       "3      Iron Man (Anthony \\\"Tony\\\" Stark)\n",
       "4                    Thor (Thor Odinson)\n",
       "5             Benjamin Grimm (Earth-616)\n",
       "6              Reed Richards (Earth-616)\n",
       "7             Hulk (Robert Bruce Banner)\n",
       "8              Scott Summers (Earth-616)\n",
       "9             Jonathan Storm (Earth-616)\n",
       "Name: name, dtype: object"
      ]
     },
     "execution_count": 18,
     "metadata": {},
     "output_type": "execute_result"
    }
   ],
   "source": [
    "# Seleccionamos los nombres de los diez primeros personajes, es decir, mostramos la columna \"name\" de las diez primeras filas\n",
    "# usando expresiones Python.\n",
    "data[\"name\"][0:10]"
   ]
  },
  {
   "cell_type": "code",
   "execution_count": 19,
   "metadata": {},
   "outputs": [
    {
     "data": {
      "text/html": [
       "<div style=\"max-width:1500px;overflow:auto;\">\n",
       "<table border=\"1\" class=\"dataframe\">\n",
       "  <thead>\n",
       "    <tr style=\"text-align: right;\">\n",
       "      <th></th>\n",
       "      <th>name</th>\n",
       "      <th>ID</th>\n",
       "      <th>HAIR</th>\n",
       "    </tr>\n",
       "  </thead>\n",
       "  <tbody>\n",
       "    <tr>\n",
       "      <th>3</th>\n",
       "      <td>Iron Man (Anthony \\\"Tony\\\" Stark)</td>\n",
       "      <td>Public Identity</td>\n",
       "      <td>Black Hair</td>\n",
       "    </tr>\n",
       "    <tr>\n",
       "      <th>8</th>\n",
       "      <td>Scott Summers (Earth-616)</td>\n",
       "      <td>Public Identity</td>\n",
       "      <td>Brown Hair</td>\n",
       "    </tr>\n",
       "  </tbody>\n",
       "</table>\n",
       "</div>"
      ],
      "text/plain": [
       "                                name               ID        HAIR\n",
       "3  Iron Man (Anthony \\\"Tony\\\" Stark)  Public Identity  Black Hair\n",
       "8          Scott Summers (Earth-616)  Public Identity  Brown Hair"
      ]
     },
     "execution_count": 19,
     "metadata": {},
     "output_type": "execute_result"
    }
   ],
   "source": [
    "# Seleccionamos el nombre, el estado de identidad y el color de pelo de los superhéroes 3 y 8\n",
    "# usando el operador de acceso de pandas .loc\n",
    "data.loc[[3,8], [\"name\", \"ID\", \"HAIR\"]]"
   ]
  },
  {
   "cell_type": "code",
   "execution_count": 20,
   "metadata": {},
   "outputs": [
    {
     "name": "stdout",
     "output_type": "stream",
     "text": [
      "11638\n",
      "3837\n"
     ]
    }
   ],
   "source": [
    "# Seleccionamos filas según el género del superhéroe utilizando operadores binarios y expresiones Python.\n",
    "male = data[data.SEX == \"Male Characters\"]\n",
    "female = data[data.SEX == \"Female Characters\"]\n",
    "print len(male)\n",
    "print len(female)\n"
   ]
  },
  {
   "cell_type": "code",
   "execution_count": 21,
   "metadata": {},
   "outputs": [
    {
     "name": "stdout",
     "output_type": "stream",
     "text": [
      "5\n",
      "0      Spider-Man (Peter Parker)\n",
      "19      Robert Drake (Earth-616)\n",
      "23    Piotr Rasputin (Earth-616)\n",
      "29       Kurt Wagner (Earth-616)\n",
      "30            Vision (Earth-616)\n",
      "Name: name, dtype: object\n"
     ]
    }
   ],
   "source": [
    "# Combinamos operadores binarios para seleccionar los superhéroes con identidad secreta que han aparecido más\n",
    "# de dos mil veces con expresiones Python.\n",
    "secret_and_popular1 = data[(data.APPEARANCES > 1000) & (data.ID == \"Secret Identity\")]\n",
    "print len(secret_and_popular1)\n",
    "print secret_and_popular1[\"name\"]\n"
   ]
  },
  {
   "cell_type": "code",
   "execution_count": 22,
   "metadata": {},
   "outputs": [
    {
     "name": "stdout",
     "output_type": "stream",
     "text": [
      "16376\n",
      "0    Spider-Man (Peter Parker)\n",
      "1                          NaN\n",
      "2                          NaN\n",
      "3                          NaN\n",
      "4                          NaN\n",
      "5                          NaN\n",
      "6                          NaN\n",
      "7                          NaN\n",
      "8                          NaN\n",
      "9                          NaN\n",
      "Name: name, dtype: object\n"
     ]
    }
   ],
   "source": [
    "# Utilizamos el método 'where' de pandas para obtener la misma información:\n",
    "secret_and_popular2 = data.where((data.APPEARANCES > 1000) & (data.ID == \"Secret Identity\"))\n",
    "# Notad que en este caso el resultado tiene el mismo tamaño que el 'dataframe' original: los valores no seleccionados\n",
    "# muestran NaN.\n",
    "print len(secret_and_popular2)\n",
    "print secret_and_popular2[\"name\"][0:10]"
   ]
  },
  {
   "cell_type": "code",
   "execution_count": 23,
   "metadata": {},
   "outputs": [
    {
     "name": "stdout",
     "output_type": "stream",
     "text": [
      "0      Spider-Man (Peter Parker)\n",
      "19      Robert Drake (Earth-616)\n",
      "23    Piotr Rasputin (Earth-616)\n",
      "29       Kurt Wagner (Earth-616)\n",
      "30            Vision (Earth-616)\n",
      "Name: name, dtype: object\n"
     ]
    }
   ],
   "source": [
    "# Podemos eliminar las filas que tengan todos los valores NaN, obteniendo así el mismo resultado que usando \n",
    "# operadores binarios. \n",
    "print secret_and_popular2.dropna(how=\"all\")[\"name\"]"
   ]
  },
  {
   "cell_type": "markdown",
   "metadata": {},
   "source": [
    "### Agregación de datos \n",
    "\n",
    "Pandas también permite crear grupos de datos a partir de los valores de una o más columnas y luego operar sobre los grupos creados. Veamos algunos ejemplos."
   ]
  },
  {
   "cell_type": "code",
   "execution_count": 24,
   "metadata": {},
   "outputs": [
    {
     "name": "stdout",
     "output_type": "stream",
     "text": [
      "Bad Characters 6720\n",
      "Good Characters 4636\n",
      "Neutral Characters 2208\n"
     ]
    }
   ],
   "source": [
    "# Agrupamos el 'dataframe' en función de la alineación del superhéroe.\n",
    "grouped = data.groupby(\"ALIGN\")\n",
    "\n",
    "# Visualizamos el nombre y el número de filas de cada grupo. \n",
    "for name, group in grouped:\n",
    "    print name, len(group)\n",
    "    "
   ]
  },
  {
   "cell_type": "code",
   "execution_count": 25,
   "metadata": {},
   "outputs": [
    {
     "name": "stdout",
     "output_type": "stream",
     "text": [
      "('Bad Characters', 'Known to Authorities Identity') 3\n",
      "('Bad Characters', 'No Dual Identity') 474\n",
      "('Bad Characters', 'Public Identity') 1452\n",
      "('Bad Characters', 'Secret Identity') 3223\n",
      "('Good Characters', 'Known to Authorities Identity') 10\n",
      "('Good Characters', 'No Dual Identity') 647\n",
      "('Good Characters', 'Public Identity') 1628\n",
      "('Good Characters', 'Secret Identity') 1613\n",
      "('Neutral Characters', 'Known to Authorities Identity') 2\n",
      "('Neutral Characters', 'No Dual Identity') 390\n",
      "('Neutral Characters', 'Public Identity') 706\n",
      "('Neutral Characters', 'Secret Identity') 818\n"
     ]
    }
   ],
   "source": [
    "# Agrupamos el 'dataframe' en función de la alineación del superhéroe y de la ocultación de su identidad.\n",
    "grouped = data.groupby([\"ALIGN\", \"ID\"])\n",
    "\n",
    "# Visualizamos el nombre y el número de filas de cada grupo.\n",
    "for name, group in grouped:\n",
    "    print name, len(group)"
   ]
  },
  {
   "cell_type": "code",
   "execution_count": 26,
   "metadata": {},
   "outputs": [
    {
     "data": {
      "text/html": [
       "<div style=\"max-width:1500px;overflow:auto;\">\n",
       "<table border=\"1\" class=\"dataframe\">\n",
       "  <thead>\n",
       "    <tr style=\"text-align: right;\">\n",
       "      <th></th>\n",
       "      <th></th>\n",
       "      <th>page_id</th>\n",
       "      <th>APPEARANCES</th>\n",
       "      <th>Year</th>\n",
       "    </tr>\n",
       "    <tr>\n",
       "      <th>ALIGN</th>\n",
       "      <th>ID</th>\n",
       "      <th></th>\n",
       "      <th></th>\n",
       "      <th></th>\n",
       "    </tr>\n",
       "  </thead>\n",
       "  <tbody>\n",
       "    <tr>\n",
       "      <th rowspan=\"4\" valign=\"top\">Bad Characters</th>\n",
       "      <th>Known to Authorities Identity</th>\n",
       "      <td>20762.666667</td>\n",
       "      <td>11.666667</td>\n",
       "      <td>1991.666667</td>\n",
       "    </tr>\n",
       "    <tr>\n",
       "      <th>No Dual Identity</th>\n",
       "      <td>420196.056962</td>\n",
       "      <td>10.434211</td>\n",
       "      <td>1973.530806</td>\n",
       "    </tr>\n",
       "    <tr>\n",
       "      <th>Public Identity</th>\n",
       "      <td>364450.002066</td>\n",
       "      <td>10.846815</td>\n",
       "      <td>1973.381458</td>\n",
       "    </tr>\n",
       "    <tr>\n",
       "      <th>Secret Identity</th>\n",
       "      <td>272270.281415</td>\n",
       "      <td>8.895082</td>\n",
       "      <td>1984.200065</td>\n",
       "    </tr>\n",
       "    <tr>\n",
       "      <th rowspan=\"4\" valign=\"top\">Good Characters</th>\n",
       "      <th>Known to Authorities Identity</th>\n",
       "      <td>67293.700000</td>\n",
       "      <td>72.000000</td>\n",
       "      <td>1994.100000</td>\n",
       "    </tr>\n",
       "    <tr>\n",
       "      <th>No Dual Identity</th>\n",
       "      <td>351762.737249</td>\n",
       "      <td>41.811570</td>\n",
       "      <td>1981.512195</td>\n",
       "    </tr>\n",
       "    <tr>\n",
       "      <th>Public Identity</th>\n",
       "      <td>328621.391892</td>\n",
       "      <td>42.761401</td>\n",
       "      <td>1982.214422</td>\n",
       "    </tr>\n",
       "    <tr>\n",
       "      <th>Secret Identity</th>\n",
       "      <td>209598.569746</td>\n",
       "      <td>37.098220</td>\n",
       "      <td>1990.303430</td>\n",
       "    </tr>\n",
       "    <tr>\n",
       "      <th rowspan=\"4\" valign=\"top\">Neutral Characters</th>\n",
       "      <th>Known to Authorities Identity</th>\n",
       "      <td>25164.000000</td>\n",
       "      <td>180.500000</td>\n",
       "      <td>1988.500000</td>\n",
       "    </tr>\n",
       "    <tr>\n",
       "      <th>No Dual Identity</th>\n",
       "      <td>448877.128205</td>\n",
       "      <td>24.430481</td>\n",
       "      <td>1983.160237</td>\n",
       "    </tr>\n",
       "    <tr>\n",
       "      <th>Public Identity</th>\n",
       "      <td>405297.841360</td>\n",
       "      <td>22.266165</td>\n",
       "      <td>1987.366322</td>\n",
       "    </tr>\n",
       "    <tr>\n",
       "      <th>Secret Identity</th>\n",
       "      <td>255694.179707</td>\n",
       "      <td>19.737113</td>\n",
       "      <td>1992.339818</td>\n",
       "    </tr>\n",
       "  </tbody>\n",
       "</table>\n",
       "</div>"
      ],
      "text/plain": [
       "                                                        page_id  APPEARANCES  \\\n",
       "ALIGN              ID                                                          \n",
       "Bad Characters     Known to Authorities Identity   20762.666667    11.666667   \n",
       "                   No Dual Identity               420196.056962    10.434211   \n",
       "                   Public Identity                364450.002066    10.846815   \n",
       "                   Secret Identity                272270.281415     8.895082   \n",
       "Good Characters    Known to Authorities Identity   67293.700000    72.000000   \n",
       "                   No Dual Identity               351762.737249    41.811570   \n",
       "                   Public Identity                328621.391892    42.761401   \n",
       "                   Secret Identity                209598.569746    37.098220   \n",
       "Neutral Characters Known to Authorities Identity   25164.000000   180.500000   \n",
       "                   No Dual Identity               448877.128205    24.430481   \n",
       "                   Public Identity                405297.841360    22.266165   \n",
       "                   Secret Identity                255694.179707    19.737113   \n",
       "\n",
       "                                                         Year  \n",
       "ALIGN              ID                                          \n",
       "Bad Characters     Known to Authorities Identity  1991.666667  \n",
       "                   No Dual Identity               1973.530806  \n",
       "                   Public Identity                1973.381458  \n",
       "                   Secret Identity                1984.200065  \n",
       "Good Characters    Known to Authorities Identity  1994.100000  \n",
       "                   No Dual Identity               1981.512195  \n",
       "                   Public Identity                1982.214422  \n",
       "                   Secret Identity                1990.303430  \n",
       "Neutral Characters Known to Authorities Identity  1988.500000  \n",
       "                   No Dual Identity               1983.160237  \n",
       "                   Public Identity                1987.366322  \n",
       "                   Secret Identity                1992.339818  "
      ]
     },
     "execution_count": 26,
     "metadata": {},
     "output_type": "execute_result"
    }
   ],
   "source": [
    "# A partir de los datos agrupados, aplicamos la función de agregación np.mean (que calcula la media).\n",
    "grouped.aggregate(np.mean)"
   ]
  },
  {
   "cell_type": "code",
   "execution_count": 27,
   "metadata": {},
   "outputs": [
    {
     "data": {
      "text/html": [
       "<div style=\"max-width:1500px;overflow:auto;\">\n",
       "<table border=\"1\" class=\"dataframe\">\n",
       "  <thead>\n",
       "    <tr style=\"text-align: right;\">\n",
       "      <th></th>\n",
       "      <th>page_id</th>\n",
       "      <th>name</th>\n",
       "      <th>urlslug</th>\n",
       "      <th>ID</th>\n",
       "      <th>ALIGN</th>\n",
       "      <th>EYE</th>\n",
       "      <th>HAIR</th>\n",
       "      <th>SEX</th>\n",
       "      <th>GSM</th>\n",
       "      <th>ALIVE</th>\n",
       "      <th>APPEARANCES</th>\n",
       "      <th>FIRST APPEARANCE</th>\n",
       "      <th>Year</th>\n",
       "    </tr>\n",
       "  </thead>\n",
       "  <tbody>\n",
       "    <tr>\n",
       "      <th>106</th>\n",
       "      <td>18186</td>\n",
       "      <td>Venom (Symbiote) (Earth-616)</td>\n",
       "      <td>\\/Venom_(Symbiote)_(Earth-616)</td>\n",
       "      <td>Known to Authorities Identity</td>\n",
       "      <td>Neutral Characters</td>\n",
       "      <td>Variable Eyes</td>\n",
       "      <td>No Hair</td>\n",
       "      <td>Agender Characters</td>\n",
       "      <td>NaN</td>\n",
       "      <td>Living Characters</td>\n",
       "      <td>348</td>\n",
       "      <td>May-84</td>\n",
       "      <td>1984</td>\n",
       "    </tr>\n",
       "    <tr>\n",
       "      <th>2668</th>\n",
       "      <td>32142</td>\n",
       "      <td>Obax Majid (Earth-616)</td>\n",
       "      <td>\\/Obax_Majid_(Earth-616)</td>\n",
       "      <td>Known to Authorities Identity</td>\n",
       "      <td>Neutral Characters</td>\n",
       "      <td>Brown Eyes</td>\n",
       "      <td>Black Hair</td>\n",
       "      <td>Female Characters</td>\n",
       "      <td>NaN</td>\n",
       "      <td>Living Characters</td>\n",
       "      <td>13</td>\n",
       "      <td>Sep-93</td>\n",
       "      <td>1993</td>\n",
       "    </tr>\n",
       "  </tbody>\n",
       "</table>\n",
       "</div>"
      ],
      "text/plain": [
       "      page_id                          name                         urlslug  \\\n",
       "106     18186  Venom (Symbiote) (Earth-616)  \\/Venom_(Symbiote)_(Earth-616)   \n",
       "2668    32142        Obax Majid (Earth-616)        \\/Obax_Majid_(Earth-616)   \n",
       "\n",
       "                                 ID               ALIGN            EYE  \\\n",
       "106   Known to Authorities Identity  Neutral Characters  Variable Eyes   \n",
       "2668  Known to Authorities Identity  Neutral Characters     Brown Eyes   \n",
       "\n",
       "            HAIR                 SEX  GSM              ALIVE  APPEARANCES  \\\n",
       "106      No Hair  Agender Characters  NaN  Living Characters          348   \n",
       "2668  Black Hair   Female Characters  NaN  Living Characters           13   \n",
       "\n",
       "     FIRST APPEARANCE  Year  \n",
       "106            May-84  1984  \n",
       "2668           Sep-93  1993  "
      ]
     },
     "execution_count": 27,
     "metadata": {},
     "output_type": "execute_result"
    }
   ],
   "source": [
    "# Recuperamos la información de un único grupo de interés.\n",
    "grouped.get_group((\"Neutral Characters\", \"Known to Authorities Identity\"))"
   ]
  },
  {
   "cell_type": "markdown",
   "metadata": {},
   "source": [
    "### Escritura de datos a un fichero\n",
    "\n",
    "De un modo análogo a cómo hemos cargado los datos de un fichero a un _dataframe_, podemos escribir los datos de un _dataframe_ en un fichero CSV."
   ]
  },
  {
   "cell_type": "code",
   "execution_count": 28,
   "metadata": {},
   "outputs": [],
   "source": [
    "# Creamos un 'dataframe' con los nombres de los superhéroes.\n",
    "new_dataset = data[[\"name\"]]\n",
    "# Guardamos el nuevo 'dataframe' en un fichero, forzando la codificación a 'utf-8'.\n",
    "new_dataset.to_csv(\"marvel-wikia-data-reduced.csv\", encoding='utf-8')\n"
   ]
  }
 ],
 "metadata": {
  "kernelspec": {
   "display_name": "Python 3",
   "language": "python",
   "name": "python3"
  },
  "language_info": {
   "codemirror_mode": {
    "name": "ipython",
    "version": 3
   },
   "file_extension": ".py",
   "mimetype": "text/x-python",
   "name": "python",
   "nbconvert_exporter": "python",
   "pygments_lexer": "ipython3",
   "version": "3.7.3"
  }
 },
 "nbformat": 4,
 "nbformat_minor": 1
}
